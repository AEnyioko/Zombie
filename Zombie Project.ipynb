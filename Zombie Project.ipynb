{
 "cells": [
  {
   "cell_type": "markdown",
   "id": "98b6742b",
   "metadata": {},
   "source": [
    "# Project 1: Decision Trees with Zombies\n",
    "Chibuzor Enyioko\n",
    "McWilliams SBMI Fall 2025\n",
    "BMI 6323 Machine Learning in Biomedical Informatics"
   ]
  },
  {
   "cell_type": "markdown",
   "id": "5add4c4c",
   "metadata": {},
   "source": []
  }
 ],
 "metadata": {
  "kernelspec": {
   "display_name": "sklearn-env",
   "language": "python",
   "name": "python3"
  },
  "language_info": {
   "name": "python",
   "version": "3.13.7"
  }
 },
 "nbformat": 4,
 "nbformat_minor": 5
}
